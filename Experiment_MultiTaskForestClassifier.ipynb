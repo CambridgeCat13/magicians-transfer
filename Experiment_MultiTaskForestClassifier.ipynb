{
  "nbformat": 4,
  "nbformat_minor": 0,
  "metadata": {
    "colab": {
      "provenance": []
    },
    "kernelspec": {
      "name": "python3",
      "display_name": "Python 3"
    },
    "language_info": {
      "name": "python"
    }
  },
  "cells": [
    {
      "cell_type": "markdown",
      "source": [
        "##PACKAGE IMPORT SECTION"
      ],
      "metadata": {
        "id": "7D7gjnvafFQG"
      }
    },
    {
      "cell_type": "code",
      "execution_count": 3,
      "metadata": {
        "colab": {
          "base_uri": "https://localhost:8080/",
          "height": 73
        },
        "id": "kioojXl1ampB",
        "outputId": "d1020004-0976-4b0f-9fd2-9e456478b5e4"
      },
      "outputs": [
        {
          "output_type": "display_data",
          "data": {
            "text/plain": [
              "<IPython.core.display.HTML object>"
            ],
            "text/html": [
              "\n",
              "     <input type=\"file\" id=\"files-f00d4b38-b182-431e-a82b-646b0be02744\" name=\"files[]\" multiple disabled\n",
              "        style=\"border:none\" />\n",
              "     <output id=\"result-f00d4b38-b182-431e-a82b-646b0be02744\">\n",
              "      Upload widget is only available when the cell has been executed in the\n",
              "      current browser session. Please rerun this cell to enable.\n",
              "      </output>\n",
              "      <script>// Copyright 2017 Google LLC\n",
              "//\n",
              "// Licensed under the Apache License, Version 2.0 (the \"License\");\n",
              "// you may not use this file except in compliance with the License.\n",
              "// You may obtain a copy of the License at\n",
              "//\n",
              "//      http://www.apache.org/licenses/LICENSE-2.0\n",
              "//\n",
              "// Unless required by applicable law or agreed to in writing, software\n",
              "// distributed under the License is distributed on an \"AS IS\" BASIS,\n",
              "// WITHOUT WARRANTIES OR CONDITIONS OF ANY KIND, either express or implied.\n",
              "// See the License for the specific language governing permissions and\n",
              "// limitations under the License.\n",
              "\n",
              "/**\n",
              " * @fileoverview Helpers for google.colab Python module.\n",
              " */\n",
              "(function(scope) {\n",
              "function span(text, styleAttributes = {}) {\n",
              "  const element = document.createElement('span');\n",
              "  element.textContent = text;\n",
              "  for (const key of Object.keys(styleAttributes)) {\n",
              "    element.style[key] = styleAttributes[key];\n",
              "  }\n",
              "  return element;\n",
              "}\n",
              "\n",
              "// Max number of bytes which will be uploaded at a time.\n",
              "const MAX_PAYLOAD_SIZE = 100 * 1024;\n",
              "\n",
              "function _uploadFiles(inputId, outputId) {\n",
              "  const steps = uploadFilesStep(inputId, outputId);\n",
              "  const outputElement = document.getElementById(outputId);\n",
              "  // Cache steps on the outputElement to make it available for the next call\n",
              "  // to uploadFilesContinue from Python.\n",
              "  outputElement.steps = steps;\n",
              "\n",
              "  return _uploadFilesContinue(outputId);\n",
              "}\n",
              "\n",
              "// This is roughly an async generator (not supported in the browser yet),\n",
              "// where there are multiple asynchronous steps and the Python side is going\n",
              "// to poll for completion of each step.\n",
              "// This uses a Promise to block the python side on completion of each step,\n",
              "// then passes the result of the previous step as the input to the next step.\n",
              "function _uploadFilesContinue(outputId) {\n",
              "  const outputElement = document.getElementById(outputId);\n",
              "  const steps = outputElement.steps;\n",
              "\n",
              "  const next = steps.next(outputElement.lastPromiseValue);\n",
              "  return Promise.resolve(next.value.promise).then((value) => {\n",
              "    // Cache the last promise value to make it available to the next\n",
              "    // step of the generator.\n",
              "    outputElement.lastPromiseValue = value;\n",
              "    return next.value.response;\n",
              "  });\n",
              "}\n",
              "\n",
              "/**\n",
              " * Generator function which is called between each async step of the upload\n",
              " * process.\n",
              " * @param {string} inputId Element ID of the input file picker element.\n",
              " * @param {string} outputId Element ID of the output display.\n",
              " * @return {!Iterable<!Object>} Iterable of next steps.\n",
              " */\n",
              "function* uploadFilesStep(inputId, outputId) {\n",
              "  const inputElement = document.getElementById(inputId);\n",
              "  inputElement.disabled = false;\n",
              "\n",
              "  const outputElement = document.getElementById(outputId);\n",
              "  outputElement.innerHTML = '';\n",
              "\n",
              "  const pickedPromise = new Promise((resolve) => {\n",
              "    inputElement.addEventListener('change', (e) => {\n",
              "      resolve(e.target.files);\n",
              "    });\n",
              "  });\n",
              "\n",
              "  const cancel = document.createElement('button');\n",
              "  inputElement.parentElement.appendChild(cancel);\n",
              "  cancel.textContent = 'Cancel upload';\n",
              "  const cancelPromise = new Promise((resolve) => {\n",
              "    cancel.onclick = () => {\n",
              "      resolve(null);\n",
              "    };\n",
              "  });\n",
              "\n",
              "  // Wait for the user to pick the files.\n",
              "  const files = yield {\n",
              "    promise: Promise.race([pickedPromise, cancelPromise]),\n",
              "    response: {\n",
              "      action: 'starting',\n",
              "    }\n",
              "  };\n",
              "\n",
              "  cancel.remove();\n",
              "\n",
              "  // Disable the input element since further picks are not allowed.\n",
              "  inputElement.disabled = true;\n",
              "\n",
              "  if (!files) {\n",
              "    return {\n",
              "      response: {\n",
              "        action: 'complete',\n",
              "      }\n",
              "    };\n",
              "  }\n",
              "\n",
              "  for (const file of files) {\n",
              "    const li = document.createElement('li');\n",
              "    li.append(span(file.name, {fontWeight: 'bold'}));\n",
              "    li.append(span(\n",
              "        `(${file.type || 'n/a'}) - ${file.size} bytes, ` +\n",
              "        `last modified: ${\n",
              "            file.lastModifiedDate ? file.lastModifiedDate.toLocaleDateString() :\n",
              "                                    'n/a'} - `));\n",
              "    const percent = span('0% done');\n",
              "    li.appendChild(percent);\n",
              "\n",
              "    outputElement.appendChild(li);\n",
              "\n",
              "    const fileDataPromise = new Promise((resolve) => {\n",
              "      const reader = new FileReader();\n",
              "      reader.onload = (e) => {\n",
              "        resolve(e.target.result);\n",
              "      };\n",
              "      reader.readAsArrayBuffer(file);\n",
              "    });\n",
              "    // Wait for the data to be ready.\n",
              "    let fileData = yield {\n",
              "      promise: fileDataPromise,\n",
              "      response: {\n",
              "        action: 'continue',\n",
              "      }\n",
              "    };\n",
              "\n",
              "    // Use a chunked sending to avoid message size limits. See b/62115660.\n",
              "    let position = 0;\n",
              "    do {\n",
              "      const length = Math.min(fileData.byteLength - position, MAX_PAYLOAD_SIZE);\n",
              "      const chunk = new Uint8Array(fileData, position, length);\n",
              "      position += length;\n",
              "\n",
              "      const base64 = btoa(String.fromCharCode.apply(null, chunk));\n",
              "      yield {\n",
              "        response: {\n",
              "          action: 'append',\n",
              "          file: file.name,\n",
              "          data: base64,\n",
              "        },\n",
              "      };\n",
              "\n",
              "      let percentDone = fileData.byteLength === 0 ?\n",
              "          100 :\n",
              "          Math.round((position / fileData.byteLength) * 100);\n",
              "      percent.textContent = `${percentDone}% done`;\n",
              "\n",
              "    } while (position < fileData.byteLength);\n",
              "  }\n",
              "\n",
              "  // All done.\n",
              "  yield {\n",
              "    response: {\n",
              "      action: 'complete',\n",
              "    }\n",
              "  };\n",
              "}\n",
              "\n",
              "scope.google = scope.google || {};\n",
              "scope.google.colab = scope.google.colab || {};\n",
              "scope.google.colab._files = {\n",
              "  _uploadFiles,\n",
              "  _uploadFilesContinue,\n",
              "};\n",
              "})(self);\n",
              "</script> "
            ]
          },
          "metadata": {}
        },
        {
          "output_type": "stream",
          "name": "stdout",
          "text": [
            "Saving multi_task_forest1.py to multi_task_forest1 (2).py\n"
          ]
        }
      ],
      "source": [
        "from google.colab import files\n",
        "uploaded = files.upload()"
      ]
    },
    {
      "cell_type": "code",
      "source": [
        "!pip install git+https://github.com/neurodata/treeple.git"
      ],
      "metadata": {
        "collapsed": true,
        "id": "Nr-GfxD_csnG"
      },
      "execution_count": null,
      "outputs": []
    },
    {
      "cell_type": "code",
      "source": [
        "!pip install proglearn"
      ],
      "metadata": {
        "collapsed": true,
        "id": "JxRKAMqGeXgG"
      },
      "execution_count": null,
      "outputs": []
    },
    {
      "cell_type": "code",
      "source": [
        "from multi_task_forest1 import MultiTaskForestClassifier\n",
        "from proglearn.sims import generate_gaussian_parity\n",
        "import matplotlib.pyplot as plt\n",
        "import seaborn as sns\n",
        "from sklearn.model_selection import train_test_split\n",
        "from sklearn.preprocessing import StandardScaler\n",
        "from sklearn.model_selection import train_test_split\n",
        "import numpy as np\n",
        "from tensorflow.keras.datasets import cifar10\n",
        "from skimage.transform import rotate\n",
        "from proglearn.sims import generate_spirals"
      ],
      "metadata": {
        "id": "Cy3d5mLQa5aW"
      },
      "execution_count": 20,
      "outputs": []
    },
    {
      "cell_type": "markdown",
      "source": [
        "#Testing\n"
      ],
      "metadata": {
        "id": "cBG9L0PSfPXh"
      }
    },
    {
      "cell_type": "markdown",
      "source": [
        "##XOR/RXOR"
      ],
      "metadata": {
        "id": "TBjTZahMSx8K"
      }
    },
    {
      "cell_type": "code",
      "source": [
        "X_xor, y_xor = generate_gaussian_parity(1000)\n",
        "X_rxor, y_rxor = generate_gaussian_parity(1000, angle_params=np.pi / 4)\n",
        "X_train_xor, X_test_xor, y_train_xor, y_test_xor = train_test_split(X_xor, y_xor, test_size=0.2, random_state=42)\n",
        "X_train_rxor, X_test_rxor, y_train_rxor, y_test_rxor = train_test_split(X_rxor, y_rxor, test_size=0.2, random_state=42)\n",
        ""
      ],
      "metadata": {
        "id": "5bdOU2Frb_yY"
      },
      "execution_count": 7,
      "outputs": []
    },
    {
      "cell_type": "markdown",
      "source": [
        "###Train on same task and test on the same task (like a base line)"
      ],
      "metadata": {
        "id": "HGqXnXAtfXAy"
      }
    },
    {
      "cell_type": "code",
      "source": [
        "clf = MultiTaskForestClassifier(clf_type=\"SPORF\")\n",
        "clf.add_task(0, X_train_xor, y_train_xor)\n",
        "clf.add_task(1, X_train_rxor, y_train_rxor)\n",
        "clf.fit([0, 1])\n",
        "acc_xor = clf.score(X_test_xor, y_test_xor, task_id=0)\n",
        "acc_rxor = clf.score(X_test_rxor, y_test_rxor, task_id=1)\n",
        "\n",
        "print(f\"XOR Accuracy: {acc_xor:.3f}\")\n",
        "print(f\"RXOR Accuracy: {acc_rxor:.3f}\")"
      ],
      "metadata": {
        "colab": {
          "base_uri": "https://localhost:8080/"
        },
        "id": "up6zK1ibe3mu",
        "outputId": "fbe6154b-55b6-463a-c2e9-c2f4b73e27f2"
      },
      "execution_count": 8,
      "outputs": [
        {
          "output_type": "stream",
          "name": "stdout",
          "text": [
            "XOR Accuracy: 0.965\n",
            "RXOR Accuracy: 0.950\n"
          ]
        }
      ]
    },
    {
      "cell_type": "markdown",
      "source": [
        "###Forward training, backward training, reverse training"
      ],
      "metadata": {
        "id": "5yHIoUtIfc0b"
      }
    },
    {
      "cell_type": "code",
      "source": [
        "results = clf.evaluate_transfer_general(\n",
        "    forward_train_ids=[0],\n",
        "    forward_test_id=1,\n",
        "    backward_train_ids=[0, 1],\n",
        "    backward_test_ids=[0, 1],\n",
        "    do_reverse=True\n",
        ")\n",
        "\n",
        "print(\"Transfer Learning Results:\")\n",
        "fwd = results[\"forward_transfer\"]\n",
        "print(f\"\\n Forward Transfer:\\n  Train on: {fwd['train_on']}\\n  Test on: {fwd['test_on']}\\n  Accuracy: {fwd['accuracy']:.3f}\")\n",
        "\n",
        "print(\"\\n Backward Transfer:\")\n",
        "for task, stats in results[\"backward_transfer\"].items():\n",
        "    print(f\"  {task}:\")\n",
        "    print(f\"    Train on: {stats['train_on']}\")\n",
        "    print(f\"    Test on : {stats['test_on']}\")\n",
        "    print(f\"    Accuracy: {stats['accuracy']:.3f}\")\n",
        "\n",
        "if \"reverse_transfer\" in results:\n",
        "    print(\"\\n Reverse Transfer:\")\n",
        "    for task, stats in results[\"reverse_transfer\"].items():\n",
        "        print(f\"  {task}:\")\n",
        "        print(f\"    Train on: {stats['train_on']}\")\n",
        "        print(f\"    Test on : {stats['test_on']}\")\n",
        "        print(f\"    Accuracy: {stats['accuracy']:.3f}\")"
      ],
      "metadata": {
        "colab": {
          "base_uri": "https://localhost:8080/"
        },
        "id": "zwgrhdgYe-yb",
        "outputId": "1f62adb9-739a-4703-b560-6aeef180dbc5"
      },
      "execution_count": 9,
      "outputs": [
        {
          "output_type": "stream",
          "name": "stdout",
          "text": [
            "Transfer Learning Results:\n",
            "\n",
            " Forward Transfer:\n",
            "  Train on: [0]\n",
            "  Test on: 1\n",
            "  Accuracy: 0.535\n",
            "\n",
            " Backward Transfer:\n",
            "  task0:\n",
            "    Train on: [0, 1]\n",
            "    Test on : 0\n",
            "    Accuracy: 0.994\n",
            "  task1:\n",
            "    Train on: [0, 1]\n",
            "    Test on : 1\n",
            "    Accuracy: 0.991\n",
            "\n",
            " Reverse Transfer:\n",
            "  task0:\n",
            "    Train on: [1]\n",
            "    Test on : 0\n",
            "    Accuracy: 0.460\n"
          ]
        }
      ]
    },
    {
      "cell_type": "markdown",
      "source": [
        "## CIFAR 10 (Rotation)\n"
      ],
      "metadata": {
        "id": "j-0FEJVNnZqI"
      }
    },
    {
      "cell_type": "code",
      "source": [
        "(X_train, y_train), (X_test, y_test) = cifar10.load_data()\n",
        "X = np.concatenate([X_train, X_test])\n",
        "y = np.concatenate([y_train, y_test]).flatten()"
      ],
      "metadata": {
        "id": "HE-9-jQhfgd6"
      },
      "execution_count": 10,
      "outputs": []
    },
    {
      "cell_type": "code",
      "source": [
        "class0_idx = y == 0\n",
        "X_class0 = X[class0_idx]\n",
        "y_class0 = y[class0_idx]\n",
        "\n",
        "X0 = X_class0[:1000]\n",
        "y0 = np.zeros(len(X0))\n",
        "\n",
        "X1 = np.array([rotate(img, angle=90, resize=False) for img in X_class0[1000:2000]])\n",
        "y1 = np.ones(len(X1))\n",
        "\n",
        "X0 = X0.reshape(X0.shape[0], -1) / 255.0\n",
        "X1 = X1.reshape(X1.shape[0], -1) / 255.0\n",
        "X0_train, X0_test, y0_train, y0_test = train_test_split(X0, y0, test_size=0.2, random_state=42)\n",
        "X1_train, X1_test, y1_train, y1_test = train_test_split(X1, y1, test_size=0.2, random_state=42)"
      ],
      "metadata": {
        "id": "dJIbsQeNnvi7"
      },
      "execution_count": 11,
      "outputs": []
    },
    {
      "cell_type": "markdown",
      "source": [
        "###Train on same task and test on the same task (like a base line)\n"
      ],
      "metadata": {
        "id": "6ohRTBv43e2k"
      }
    },
    {
      "cell_type": "code",
      "source": [
        "clf = MultiTaskForestClassifier(clf_type=\"SPORF\")\n",
        "clf.add_task(0, X0_train, y0_train)\n",
        "clf.add_task(1, X1_train, y1_train)\n",
        "\n",
        "clf.fit([0, 1])\n",
        "\n",
        "acc_task0 = clf.score(X0_test, y0_test, task_id=0)\n",
        "acc_task1 = clf.score(X1_test, y1_test, task_id=1)\n",
        "\n",
        "print(f\"Task 0 (Original Class 0) Accuracy: {acc_task0:.3f}\")\n",
        "print(f\"Task 1 (Rotated Class 0) Accuracy: {acc_task1:.3f}\")"
      ],
      "metadata": {
        "colab": {
          "base_uri": "https://localhost:8080/"
        },
        "id": "Q6l9ENVp3Obi",
        "outputId": "17c1e9aa-78ed-465e-b131-cca7435344e4"
      },
      "execution_count": 13,
      "outputs": [
        {
          "output_type": "stream",
          "name": "stdout",
          "text": [
            "Task 0 (Original Class 0) Accuracy: 1.000\n",
            "Task 1 (Rotated Class 0) Accuracy: 1.000\n"
          ]
        }
      ]
    },
    {
      "cell_type": "markdown",
      "source": [
        "###Forward training, backward training, reverse training"
      ],
      "metadata": {
        "id": "sqmRa_CU3kPQ"
      }
    },
    {
      "cell_type": "code",
      "source": [
        "results = clf.evaluate_transfer_general(\n",
        "    forward_train_ids=[0],\n",
        "    forward_test_id=1,\n",
        "    backward_train_ids=[0, 1],\n",
        "    backward_test_ids=[0, 1],\n",
        "    do_reverse=True\n",
        ")\n",
        "print(\"Transfer Learning Results:\")\n",
        "fwd = results[\"forward_transfer\"]\n",
        "print(f\"\\n Forward Transfer:\\n  Train on: {fwd['train_on']}\\n  Test on: {fwd['test_on']}\\n  Accuracy: {fwd['accuracy']:.3f}\")\n",
        "\n",
        "print(\"\\n Backward Transfer:\")\n",
        "for task, stats in results[\"backward_transfer\"].items():\n",
        "    print(f\"  {task}:\")\n",
        "    print(f\"    Train on: {stats['train_on']}\")\n",
        "    print(f\"    Test on : {stats['test_on']}\")\n",
        "    print(f\"    Accuracy: {stats['accuracy']:.3f}\")\n",
        "\n",
        "if \"reverse_transfer\" in results:\n",
        "    print(\"\\n Reverse Transfer:\")\n",
        "    for task, stats in results[\"reverse_transfer\"].items():\n",
        "        print(f\"  {task}:\")\n",
        "        print(f\"    Train on: {stats['train_on']}\")\n",
        "        print(f\"    Test on : {stats['test_on']}\")\n",
        "        print(f\"    Accuracy: {stats['accuracy']:.3f}\")"
      ],
      "metadata": {
        "colab": {
          "base_uri": "https://localhost:8080/"
        },
        "id": "NZ1Ge8yqn1fO",
        "outputId": "33221dcc-4386-4b77-cb7a-2c5c04120599"
      },
      "execution_count": 14,
      "outputs": [
        {
          "output_type": "stream",
          "name": "stdout",
          "text": [
            "Transfer Learning Results:\n",
            "\n",
            " Forward Transfer:\n",
            "  Train on: [0]\n",
            "  Test on: 1\n",
            "  Accuracy: 0.000\n",
            "\n",
            " Backward Transfer:\n",
            "  task0:\n",
            "    Train on: [0, 1]\n",
            "    Test on : 0\n",
            "    Accuracy: 1.000\n",
            "  task1:\n",
            "    Train on: [0, 1]\n",
            "    Test on : 1\n",
            "    Accuracy: 1.000\n",
            "\n",
            " Reverse Transfer:\n",
            "  task0:\n",
            "    Train on: [1]\n",
            "    Test on : 0\n",
            "    Accuracy: 0.000\n"
          ]
        }
      ]
    },
    {
      "cell_type": "markdown",
      "source": [
        "##CIFAR 10 (Randomly pick 3 classes as 3 tasks)"
      ],
      "metadata": {
        "id": "EK2vNf5zSnL4"
      }
    },
    {
      "cell_type": "code",
      "source": [
        "selected_classes = [0, 3, 7]\n",
        "\n",
        "task_data = {}\n",
        "for task_id, cls in enumerate(selected_classes):\n",
        "    idx = y == cls\n",
        "    X_cls = X[idx][:1000]  # Use 1000 per class for speed\n",
        "    y_cls = np.full(len(X_cls), task_id)  # Relabel for task (0, 1, 2)\n",
        "\n",
        "    X_cls = X_cls.reshape(X_cls.shape[0], -1) / 255.0\n",
        "    X_train_task, X_test_task, y_train_task, y_test_task = train_test_split(X_cls, y_cls, test_size=0.2, random_state=42)\n",
        "\n",
        "    task_data[task_id] = (X_train_task, X_test_task, y_train_task, y_test_task)"
      ],
      "metadata": {
        "id": "oNJR5Hzxovf_"
      },
      "execution_count": 17,
      "outputs": []
    },
    {
      "cell_type": "markdown",
      "source": [
        "###Train on same task and test on the same task (like a base line)"
      ],
      "metadata": {
        "id": "fzNB0zjvSkVm"
      }
    },
    {
      "cell_type": "code",
      "source": [
        "clf = MultiTaskForestClassifier(clf_type=\"SPORF\")\n",
        "\n",
        "for task_id in task_data:\n",
        "    X_train, X_test, y_train, y_test = task_data[task_id]\n",
        "    clf.add_task(task_id, X_train, y_train)\n",
        "\n",
        "clf.fit([0, 1, 2])\n",
        "\n",
        "for task_id in task_data:\n",
        "    X_test = task_data[task_id][1]\n",
        "    y_test = task_data[task_id][3]\n",
        "    acc = clf.score(X_test, y_test, task_id=task_id)\n",
        "    print(f\"Task {task_id} (Class {task_id}) Baseline Accuracy: {acc:.3f}\")"
      ],
      "metadata": {
        "colab": {
          "base_uri": "https://localhost:8080/"
        },
        "id": "I2j0aEf3o5CY",
        "outputId": "e7926632-4a8c-4863-dd9f-1e3c2f64c9fe"
      },
      "execution_count": 18,
      "outputs": [
        {
          "output_type": "stream",
          "name": "stdout",
          "text": [
            "Task 0 (Class 0) Baseline Accuracy: 1.000\n",
            "Task 1 (Class 1) Baseline Accuracy: 1.000\n",
            "Task 2 (Class 2) Baseline Accuracy: 1.000\n"
          ]
        }
      ]
    },
    {
      "cell_type": "markdown",
      "source": [
        "###Forward training, backward training, reverse training"
      ],
      "metadata": {
        "id": "36JZEENjShq2"
      }
    },
    {
      "cell_type": "code",
      "source": [
        "results = clf.evaluate_transfer_general(\n",
        "    forward_train_ids=[0, 1, 2],    # Train on all 3\n",
        "    forward_test_id=0,\n",
        "    backward_train_ids=[0, 1, 2],\n",
        "    backward_test_ids=[0, 1, 2],    # But test on each task individually\n",
        "    do_reverse=True\n",
        ")\n",
        "print(\"Transfer Learning Results:\")\n",
        "fwd = results[\"forward_transfer\"]\n",
        "print(f\"\\n Forward Transfer:\\n  Train on: {fwd['train_on']}\\n  Test on: {fwd['test_on']}\\n  Accuracy: {fwd['accuracy']:.3f}\")\n",
        "\n",
        "print(\"\\n Backward Transfer:\")\n",
        "for task, stats in results[\"backward_transfer\"].items():\n",
        "    print(f\"  {task}:\")\n",
        "    print(f\"    Train on: {stats['train_on']}\")\n",
        "    print(f\"    Test on : {stats['test_on']}\")\n",
        "    print(f\"    Accuracy: {stats['accuracy']:.3f}\")\n",
        "\n",
        "if \"reverse_transfer\" in results:\n",
        "    print(\"\\n Reverse Transfer:\")\n",
        "    for task, stats in results[\"reverse_transfer\"].items():\n",
        "        print(f\"  {task}:\")\n",
        "        print(f\"    Train on: {stats['train_on']}\")\n",
        "        print(f\"    Test on : {stats['test_on']}\")\n",
        "        print(f\"    Accuracy: {stats['accuracy']:.3f}\")"
      ],
      "metadata": {
        "colab": {
          "base_uri": "https://localhost:8080/"
        },
        "id": "DayRSEPt7p5y",
        "outputId": "4c696d1d-1764-4b69-f562-622aac19f210"
      },
      "execution_count": 19,
      "outputs": [
        {
          "output_type": "stream",
          "name": "stdout",
          "text": [
            "Transfer Learning Results:\n",
            "\n",
            " Forward Transfer:\n",
            "  Train on: [0, 1, 2]\n",
            "  Test on: 0\n",
            "  Accuracy: 1.000\n",
            "\n",
            " Backward Transfer:\n",
            "  task0:\n",
            "    Train on: [0, 1, 2]\n",
            "    Test on : 0\n",
            "    Accuracy: 1.000\n",
            "  task1:\n",
            "    Train on: [0, 1, 2]\n",
            "    Test on : 1\n",
            "    Accuracy: 1.000\n",
            "  task2:\n",
            "    Train on: [0, 1, 2]\n",
            "    Test on : 2\n",
            "    Accuracy: 1.000\n",
            "\n",
            " Reverse Transfer:\n",
            "  task0:\n",
            "    Train on: [0]\n",
            "    Test on : 0\n",
            "    Accuracy: 1.000\n",
            "  task1:\n",
            "    Train on: [0]\n",
            "    Test on : 1\n",
            "    Accuracy: 0.000\n",
            "  task2:\n",
            "    Train on: [0]\n",
            "    Test on : 2\n",
            "    Accuracy: 0.000\n"
          ]
        }
      ]
    },
    {
      "cell_type": "markdown",
      "source": [
        "##Sprial 3 & Spiral 5"
      ],
      "metadata": {
        "id": "7QTqhk2CXmgq"
      }
    },
    {
      "cell_type": "code",
      "source": [
        "n_samples = 750\n",
        "X3, y3 = generate_spirals(n_samples, 3, noise=0.8)\n",
        "X5, y5 = generate_spirals(n_samples, 5, noise=0.4)\n",
        "X3_train, X3_test, y3_train, y3_test = train_test_split(X3, y3, test_size=0.2, random_state=42)\n",
        "X5_train, X5_test, y5_train, y5_test = train_test_split(X5, y5, test_size=0.2, random_state=42)\n",
        "\n",
        "task_data = {\n",
        "    0: (X3_train, X3_test, y3_train, y3_test),  # Spiral 3\n",
        "    1: (X5_train, X5_test, y5_train, y5_test)   # Spiral 5\n",
        "}"
      ],
      "metadata": {
        "id": "uG7K8mAMUkJ4"
      },
      "execution_count": 26,
      "outputs": []
    },
    {
      "cell_type": "markdown",
      "source": [
        "###Train on same task and test on the same task (like a base line)"
      ],
      "metadata": {
        "id": "PvCqeLU3XjRC"
      }
    },
    {
      "cell_type": "code",
      "source": [
        "clf = MultiTaskForestClassifier(clf_type=\"SPORF\")\n",
        "\n",
        "for task_id in task_data:\n",
        "    X_train, X_test, y_train, y_test = task_data[task_id]\n",
        "    clf.add_task(task_id, X_train, y_train)\n",
        "\n",
        "clf.fit([0, 1])\n",
        "for task_id in task_data:\n",
        "    X_test = task_data[task_id][1]\n",
        "    y_test = task_data[task_id][3]\n",
        "    acc = clf.score(X_test, y_test, task_id=task_id)\n",
        "    print(f\"Task {task_id} (Spiral {3 if task_id==0 else 5}) Baseline Accuracy: {acc:.3f}\")\n"
      ],
      "metadata": {
        "colab": {
          "base_uri": "https://localhost:8080/"
        },
        "id": "HskMxjLAUuhk",
        "outputId": "cee65063-3bd8-4716-f928-596e9edaa793"
      },
      "execution_count": 28,
      "outputs": [
        {
          "output_type": "stream",
          "name": "stdout",
          "text": [
            "Task 0 (Spiral 3) Baseline Accuracy: 0.740\n",
            "Task 1 (Spiral 5) Baseline Accuracy: 0.740\n"
          ]
        }
      ]
    },
    {
      "cell_type": "markdown",
      "source": [
        "###Forward training, backward training, reverse training"
      ],
      "metadata": {
        "id": "v676uVp0XgQ9"
      }
    },
    {
      "cell_type": "code",
      "source": [
        "results = clf.evaluate_transfer_general(\n",
        "    forward_train_ids=[0],\n",
        "    forward_test_id=1,\n",
        "    backward_train_ids=[0, 1],\n",
        "    backward_test_ids=[0, 1],\n",
        "    do_reverse=True\n",
        ")\n",
        "\n",
        "fwd = results[\"forward_transfer\"]\n",
        "print(f\"\\nForward Transfer:\\n  Train on: {fwd['train_on']}\\n  Test on: {fwd['test_on']}\\n  Accuracy: {fwd['accuracy']:.3f}\")\n",
        "\n",
        "print(\"\\nBackward Transfer:\")\n",
        "for task, stats in results[\"backward_transfer\"].items():\n",
        "    print(f\"  {task}:\")\n",
        "    print(f\"    Train on: {stats['train_on']}\")\n",
        "    print(f\"    Test on : {stats['test_on']}\")\n",
        "    print(f\"    Accuracy: {stats['accuracy']:.3f}\")\n",
        "\n",
        "if \"reverse_transfer\" in results:\n",
        "    print(\"\\nReverse Transfer:\")\n",
        "    for task, stats in results[\"reverse_transfer\"].items():\n",
        "        print(f\"  {task}:\")\n",
        "        print(f\"    Train on: {stats['train_on']}\")\n",
        "        print(f\"    Test on : {stats['test_on']}\")\n",
        "        print(f\"    Accuracy: {stats['accuracy']:.3f}\")"
      ],
      "metadata": {
        "colab": {
          "base_uri": "https://localhost:8080/"
        },
        "id": "ozb6xBr0UzKB",
        "outputId": "5976d514-c7c9-4e5e-d9a4-fe38bd5e47bd"
      },
      "execution_count": 29,
      "outputs": [
        {
          "output_type": "stream",
          "name": "stdout",
          "text": [
            "\n",
            "Forward Transfer:\n",
            "  Train on: [0]\n",
            "  Test on: 1\n",
            "  Accuracy: 0.160\n",
            "\n",
            "Backward Transfer:\n",
            "  task0:\n",
            "    Train on: [0, 1]\n",
            "    Test on : 0\n",
            "    Accuracy: 0.960\n",
            "  task1:\n",
            "    Train on: [0, 1]\n",
            "    Test on : 1\n",
            "    Accuracy: 0.982\n",
            "\n",
            "Reverse Transfer:\n",
            "  task0:\n",
            "    Train on: [1]\n",
            "    Test on : 0\n",
            "    Accuracy: 0.218\n"
          ]
        }
      ]
    }
  ]
}