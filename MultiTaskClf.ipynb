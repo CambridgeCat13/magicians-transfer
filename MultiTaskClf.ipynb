{
  "nbformat": 4,
  "nbformat_minor": 0,
  "metadata": {
    "colab": {
      "provenance": []
    },
    "kernelspec": {
      "name": "python3",
      "display_name": "Python 3"
    },
    "language_info": {
      "name": "python"
    }
  },
  "cells": [
    {
      "cell_type": "code",
      "source": [
        "!pip install proglearn\n",
        "!pip install git+https://github.com/neurodata/treeple.git"
      ],
      "metadata": {
        "id": "JxBYpMdVyY57"
      },
      "execution_count": null,
      "outputs": []
    },
    {
      "cell_type": "code",
      "source": [
        "import numpy as np\n",
        "import time\n",
        "import matplotlib.pyplot as plt\n",
        "import seaborn as sns\n",
        "from treeple import ObliqueRandomForestClassifier\n",
        "from proglearn.sims import generate_gaussian_parity\n",
        "from sklearn.metrics import accuracy_score\n",
        "from proglearn.sims import generate_spirals\n",
        "from sklearn.preprocessing import StandardScaler\n",
        "from tensorflow.keras.datasets import mnist, fashion_mnist"
      ],
      "metadata": {
        "id": "R9G4oQOFqN-d"
      },
      "execution_count": 9,
      "outputs": []
    },
    {
      "cell_type": "code",
      "execution_count": 10,
      "metadata": {
        "id": "dryRXOTsqLxp"
      },
      "outputs": [],
      "source": [
        "def MultiTaskClf(task0_train, task1_train, task0_test, task1_test,\n",
        "                     clf_type=\"SPORF\", **kwargs):\n",
        "    \"\"\"\n",
        "    A  multi-task classifier with different forest choices.\n",
        "    Parameters:\n",
        "        task0_train, task1_train: input\n",
        "        task0_test, task1_test: input\n",
        "        clf_type: \"SPORF\" (will add MORF and Honest Forest Later)\n",
        "        **kwargs: Tunable hyperparameters depends on tree (e.g. SPORF will be n_estimators and feature_combinations)\n",
        "    Returns:\n",
        "        Dictionary with accuracies for each task\n",
        "    \"\"\"\n",
        "    if clf_type == \"SPORF\":\n",
        "        Clf = ObliqueRandomForestClassifier\n",
        "        default_params = {\n",
        "            \"n_estimators\": 200,\n",
        "            \"feature_combinations\": 2.0\n",
        "        }\n",
        "        params = {**default_params, **kwargs}\n",
        "        X0_train, y0_train = task0_train\n",
        "        X1_train, y1_train = task1_train\n",
        "        X0_test, y0_test = task0_test\n",
        "        X1_test, y1_test = task1_test\n",
        "\n",
        "        # Add label for task\n",
        "        task_train_labels = np.concatenate([np.zeros(len(y0_train)), np.ones(len(y1_train))])\n",
        "        X_train = np.vstack([X0_train, X1_train])\n",
        "        X_train = np.column_stack((X_train, task_train_labels))\n",
        "        y_train = np.concatenate([y0_train, y1_train])\n",
        "\n",
        "        X0_test = np.column_stack((X0_test, np.zeros(len(y0_test))))\n",
        "        X1_test = np.column_stack((X1_test, np.ones(len(y1_test))))\n",
        "\n",
        "        # Train and predict\n",
        "        clf = Clf(**params, random_state=42)\n",
        "        clf.fit(X_train, y_train)\n",
        "\n",
        "        y0_pred = clf.predict(X0_test)\n",
        "        y1_pred = clf.predict(X1_test)\n",
        "\n",
        "    elif clf_type == \"MORF\":\n",
        "        raise NotImplementedError(\"MORF will be available soon.\")\n",
        "    elif clf_type == \"HonestForest\":\n",
        "        raise NotImplementedError(\"HonestForest will be available soon.\")\n",
        "    else:\n",
        "        raise NotImplementedError(f\"{clf_type} not supported.\")\n",
        "\n",
        "\n",
        "    return {\n",
        "        \"task0_accuracy\": accuracy_score(y0_test, y0_pred),\n",
        "        \"task1_accuracy\": accuracy_score(y1_test, y1_pred)\n",
        "    }"
      ]
    }
  ]
}